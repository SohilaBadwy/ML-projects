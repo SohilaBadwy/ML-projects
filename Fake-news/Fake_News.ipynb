{
  "nbformat": 4,
  "nbformat_minor": 0,
  "metadata": {
    "colab": {
      "provenance": []
    },
    "kernelspec": {
      "name": "python3",
      "display_name": "Python 3"
    },
    "language_info": {
      "name": "python"
    }
  },
  "cells": [
    {
      "cell_type": "markdown",
      "source": [
        "About the Dataset:\n",
        "\n",
        "1.id: unique id for a news article\n",
        "\n",
        "2.title: the title of a news article\n",
        "\n",
        "3.author: author of the news article\n",
        "\n",
        "4.text: the text of the article; could \n",
        "be incomplete\n",
        "\n",
        "5.label: a label that marks whether the news article is real or fake:\n",
        "\n",
        "\n",
        "\n",
        "    1: Fake news\n",
        "    0: real News"
      ],
      "metadata": {
        "id": "erGOg3lQJAM0"
      }
    },
    {
      "cell_type": "code",
      "execution_count": 16,
      "metadata": {
        "id": "nDbQsgTkJF_8"
      },
      "outputs": [],
      "source": [
        "import numpy as np\n",
        "import pandas as pd\n",
        "import re\n",
        "from nltk.corpus import stopwords\n",
        "from nltk.stem.porter import PorterStemmer\n",
        "from sklearn.feature_extraction.text import TfidfVectorizer\n",
        "from sklearn.model_selection import train_test_split\n",
        "from sklearn.linear_model import LogisticRegression\n",
        "from sklearn.metrics import accuracy_score"
      ]
    },
    {
      "cell_type": "code",
      "execution_count": 17,
      "metadata": {
        "id": "eMr-7tjqGyx4",
        "colab": {
          "base_uri": "https://localhost:8080/"
        },
        "outputId": "ef6a57e7-2e68-4142-a380-01279a17d990"
      },
      "outputs": [
        {
          "output_type": "stream",
          "name": "stderr",
          "text": [
            "[nltk_data] Downloading package stopwords to /root/nltk_data...\n",
            "[nltk_data]   Package stopwords is already up-to-date!\n"
          ]
        },
        {
          "output_type": "execute_result",
          "data": {
            "text/plain": [
              "True"
            ]
          },
          "metadata": {},
          "execution_count": 17
        }
      ],
      "source": [
        "import nltk \n",
        "nltk.download('stopwords')"
      ]
    },
    {
      "cell_type": "code",
      "source": [
        "#printing the stopwords in English \n",
        "print(stopwords.words('english'))"
      ],
      "metadata": {
        "colab": {
          "base_uri": "https://localhost:8080/"
        },
        "id": "M1lmkoT9sCur",
        "outputId": "8a584038-dccd-4532-90aa-5370d3c0da2e"
      },
      "execution_count": 18,
      "outputs": [
        {
          "output_type": "stream",
          "name": "stdout",
          "text": [
            "['i', 'me', 'my', 'myself', 'we', 'our', 'ours', 'ourselves', 'you', \"you're\", \"you've\", \"you'll\", \"you'd\", 'your', 'yours', 'yourself', 'yourselves', 'he', 'him', 'his', 'himself', 'she', \"she's\", 'her', 'hers', 'herself', 'it', \"it's\", 'its', 'itself', 'they', 'them', 'their', 'theirs', 'themselves', 'what', 'which', 'who', 'whom', 'this', 'that', \"that'll\", 'these', 'those', 'am', 'is', 'are', 'was', 'were', 'be', 'been', 'being', 'have', 'has', 'had', 'having', 'do', 'does', 'did', 'doing', 'a', 'an', 'the', 'and', 'but', 'if', 'or', 'because', 'as', 'until', 'while', 'of', 'at', 'by', 'for', 'with', 'about', 'against', 'between', 'into', 'through', 'during', 'before', 'after', 'above', 'below', 'to', 'from', 'up', 'down', 'in', 'out', 'on', 'off', 'over', 'under', 'again', 'further', 'then', 'once', 'here', 'there', 'when', 'where', 'why', 'how', 'all', 'any', 'both', 'each', 'few', 'more', 'most', 'other', 'some', 'such', 'no', 'nor', 'not', 'only', 'own', 'same', 'so', 'than', 'too', 'very', 's', 't', 'can', 'will', 'just', 'don', \"don't\", 'should', \"should've\", 'now', 'd', 'll', 'm', 'o', 're', 've', 'y', 'ain', 'aren', \"aren't\", 'couldn', \"couldn't\", 'didn', \"didn't\", 'doesn', \"doesn't\", 'hadn', \"hadn't\", 'hasn', \"hasn't\", 'haven', \"haven't\", 'isn', \"isn't\", 'ma', 'mightn', \"mightn't\", 'mustn', \"mustn't\", 'needn', \"needn't\", 'shan', \"shan't\", 'shouldn', \"shouldn't\", 'wasn', \"wasn't\", 'weren', \"weren't\", 'won', \"won't\", 'wouldn', \"wouldn't\"]\n"
          ]
        }
      ]
    },
    {
      "cell_type": "markdown",
      "source": [
        "Data pre Processing"
      ],
      "metadata": {
        "id": "zVuHnyRutz_E"
      }
    },
    {
      "cell_type": "code",
      "source": [
        "# loading the dataset to a pandas DataFrame\n",
        "news_dataset = pd.read_csv('/content/train.csv',encoding='latin-1')\n"
      ],
      "metadata": {
        "id": "JGL-yi86sXBp"
      },
      "execution_count": 22,
      "outputs": []
    },
    {
      "cell_type": "code",
      "source": [
        "news_dataset.shape\n",
        "news_dataset.head()"
      ],
      "metadata": {
        "colab": {
          "base_uri": "https://localhost:8080/",
          "height": 267
        },
        "id": "WT568JsNQbsK",
        "outputId": "4fb3d186-f3bb-460b-ed04-ea1db373c40c"
      },
      "execution_count": 23,
      "outputs": [
        {
          "output_type": "execute_result",
          "data": {
            "text/plain": [
              "   id                                              title              author  \\\n",
              "0   0  House Dem Aide: We Didnât Even See Comeyâs...       Darrell Lucus   \n",
              "1   1  FLYNN: Hillary Clinton, Big Woman on Campus - ...     Daniel J. Flynn   \n",
              "2   2                  Why the Truth Might Get You Fired  Consortiumnews.com   \n",
              "3   3  15 Civilians Killed In Single US Airstrike Hav...     Jessica Purkiss   \n",
              "4   4  Iranian woman jailed for fictional unpublished...      Howard Portnoy   \n",
              "\n",
              "                                                text  label  \n",
              "0  House Dem Aide: We Didnât Even See Comeyâs...      1  \n",
              "1  Ever get the feeling your life circles the rou...      0  \n",
              "2  Why the Truth Might Get You Fired October 29, ...      1  \n",
              "3  Videos 15 Civilians Killed In Single US Airstr...      1  \n",
              "4  Print \\nAn Iranian woman has been sentenced to...      1  "
            ],
            "text/html": [
              "\n",
              "  <div id=\"df-50321ae1-9344-41b6-99c4-9f5e44e2914d\">\n",
              "    <div class=\"colab-df-container\">\n",
              "      <div>\n",
              "<style scoped>\n",
              "    .dataframe tbody tr th:only-of-type {\n",
              "        vertical-align: middle;\n",
              "    }\n",
              "\n",
              "    .dataframe tbody tr th {\n",
              "        vertical-align: top;\n",
              "    }\n",
              "\n",
              "    .dataframe thead th {\n",
              "        text-align: right;\n",
              "    }\n",
              "</style>\n",
              "<table border=\"1\" class=\"dataframe\">\n",
              "  <thead>\n",
              "    <tr style=\"text-align: right;\">\n",
              "      <th></th>\n",
              "      <th>id</th>\n",
              "      <th>title</th>\n",
              "      <th>author</th>\n",
              "      <th>text</th>\n",
              "      <th>label</th>\n",
              "    </tr>\n",
              "  </thead>\n",
              "  <tbody>\n",
              "    <tr>\n",
              "      <th>0</th>\n",
              "      <td>0</td>\n",
              "      <td>House Dem Aide: We Didnât Even See Comeyâs...</td>\n",
              "      <td>Darrell Lucus</td>\n",
              "      <td>House Dem Aide: We Didnât Even See Comeyâs...</td>\n",
              "      <td>1</td>\n",
              "    </tr>\n",
              "    <tr>\n",
              "      <th>1</th>\n",
              "      <td>1</td>\n",
              "      <td>FLYNN: Hillary Clinton, Big Woman on Campus - ...</td>\n",
              "      <td>Daniel J. Flynn</td>\n",
              "      <td>Ever get the feeling your life circles the rou...</td>\n",
              "      <td>0</td>\n",
              "    </tr>\n",
              "    <tr>\n",
              "      <th>2</th>\n",
              "      <td>2</td>\n",
              "      <td>Why the Truth Might Get You Fired</td>\n",
              "      <td>Consortiumnews.com</td>\n",
              "      <td>Why the Truth Might Get You Fired October 29, ...</td>\n",
              "      <td>1</td>\n",
              "    </tr>\n",
              "    <tr>\n",
              "      <th>3</th>\n",
              "      <td>3</td>\n",
              "      <td>15 Civilians Killed In Single US Airstrike Hav...</td>\n",
              "      <td>Jessica Purkiss</td>\n",
              "      <td>Videos 15 Civilians Killed In Single US Airstr...</td>\n",
              "      <td>1</td>\n",
              "    </tr>\n",
              "    <tr>\n",
              "      <th>4</th>\n",
              "      <td>4</td>\n",
              "      <td>Iranian woman jailed for fictional unpublished...</td>\n",
              "      <td>Howard Portnoy</td>\n",
              "      <td>Print \\nAn Iranian woman has been sentenced to...</td>\n",
              "      <td>1</td>\n",
              "    </tr>\n",
              "  </tbody>\n",
              "</table>\n",
              "</div>\n",
              "      <button class=\"colab-df-convert\" onclick=\"convertToInteractive('df-50321ae1-9344-41b6-99c4-9f5e44e2914d')\"\n",
              "              title=\"Convert this dataframe to an interactive table.\"\n",
              "              style=\"display:none;\">\n",
              "        \n",
              "  <svg xmlns=\"http://www.w3.org/2000/svg\" height=\"24px\"viewBox=\"0 0 24 24\"\n",
              "       width=\"24px\">\n",
              "    <path d=\"M0 0h24v24H0V0z\" fill=\"none\"/>\n",
              "    <path d=\"M18.56 5.44l.94 2.06.94-2.06 2.06-.94-2.06-.94-.94-2.06-.94 2.06-2.06.94zm-11 1L8.5 8.5l.94-2.06 2.06-.94-2.06-.94L8.5 2.5l-.94 2.06-2.06.94zm10 10l.94 2.06.94-2.06 2.06-.94-2.06-.94-.94-2.06-.94 2.06-2.06.94z\"/><path d=\"M17.41 7.96l-1.37-1.37c-.4-.4-.92-.59-1.43-.59-.52 0-1.04.2-1.43.59L10.3 9.45l-7.72 7.72c-.78.78-.78 2.05 0 2.83L4 21.41c.39.39.9.59 1.41.59.51 0 1.02-.2 1.41-.59l7.78-7.78 2.81-2.81c.8-.78.8-2.07 0-2.86zM5.41 20L4 18.59l7.72-7.72 1.47 1.35L5.41 20z\"/>\n",
              "  </svg>\n",
              "      </button>\n",
              "      \n",
              "  <style>\n",
              "    .colab-df-container {\n",
              "      display:flex;\n",
              "      flex-wrap:wrap;\n",
              "      gap: 12px;\n",
              "    }\n",
              "\n",
              "    .colab-df-convert {\n",
              "      background-color: #E8F0FE;\n",
              "      border: none;\n",
              "      border-radius: 50%;\n",
              "      cursor: pointer;\n",
              "      display: none;\n",
              "      fill: #1967D2;\n",
              "      height: 32px;\n",
              "      padding: 0 0 0 0;\n",
              "      width: 32px;\n",
              "    }\n",
              "\n",
              "    .colab-df-convert:hover {\n",
              "      background-color: #E2EBFA;\n",
              "      box-shadow: 0px 1px 2px rgba(60, 64, 67, 0.3), 0px 1px 3px 1px rgba(60, 64, 67, 0.15);\n",
              "      fill: #174EA6;\n",
              "    }\n",
              "\n",
              "    [theme=dark] .colab-df-convert {\n",
              "      background-color: #3B4455;\n",
              "      fill: #D2E3FC;\n",
              "    }\n",
              "\n",
              "    [theme=dark] .colab-df-convert:hover {\n",
              "      background-color: #434B5C;\n",
              "      box-shadow: 0px 1px 3px 1px rgba(0, 0, 0, 0.15);\n",
              "      filter: drop-shadow(0px 1px 2px rgba(0, 0, 0, 0.3));\n",
              "      fill: #FFFFFF;\n",
              "    }\n",
              "  </style>\n",
              "\n",
              "      <script>\n",
              "        const buttonEl =\n",
              "          document.querySelector('#df-50321ae1-9344-41b6-99c4-9f5e44e2914d button.colab-df-convert');\n",
              "        buttonEl.style.display =\n",
              "          google.colab.kernel.accessAllowed ? 'block' : 'none';\n",
              "\n",
              "        async function convertToInteractive(key) {\n",
              "          const element = document.querySelector('#df-50321ae1-9344-41b6-99c4-9f5e44e2914d');\n",
              "          const dataTable =\n",
              "            await google.colab.kernel.invokeFunction('convertToInteractive',\n",
              "                                                     [key], {});\n",
              "          if (!dataTable) return;\n",
              "\n",
              "          const docLinkHtml = 'Like what you see? Visit the ' +\n",
              "            '<a target=\"_blank\" href=https://colab.research.google.com/notebooks/data_table.ipynb>data table notebook</a>'\n",
              "            + ' to learn more about interactive tables.';\n",
              "          element.innerHTML = '';\n",
              "          dataTable['output_type'] = 'display_data';\n",
              "          await google.colab.output.renderOutput(dataTable, element);\n",
              "          const docLink = document.createElement('div');\n",
              "          docLink.innerHTML = docLinkHtml;\n",
              "          element.appendChild(docLink);\n",
              "        }\n",
              "      </script>\n",
              "    </div>\n",
              "  </div>\n",
              "  "
            ]
          },
          "metadata": {},
          "execution_count": 23
        }
      ]
    },
    {
      "cell_type": "code",
      "source": [
        "# counting the number of missing values in the dataset\n",
        "news_dataset.isnull().sum()\n",
        "\n",
        "# replacing the null values with empty string\n",
        "news_dataset = news_dataset.fillna('')"
      ],
      "metadata": {
        "id": "vYPsqDa7QlMq"
      },
      "execution_count": 24,
      "outputs": []
    },
    {
      "cell_type": "code",
      "source": [
        "# merging the author name and news title\n",
        "news_dataset['content'] = news_dataset['author']+' '+news_dataset['title']"
      ],
      "metadata": {
        "id": "rgH3e8KcQtXD"
      },
      "execution_count": 25,
      "outputs": []
    },
    {
      "cell_type": "code",
      "source": [
        "print(news_dataset['content'])"
      ],
      "metadata": {
        "colab": {
          "base_uri": "https://localhost:8080/"
        },
        "id": "J50QKbicQxL0",
        "outputId": "0650e737-daf1-48d7-afd4-5a6d33a678dc"
      },
      "execution_count": 26,
      "outputs": [
        {
          "output_type": "stream",
          "name": "stdout",
          "text": [
            "0       Darrell Lucus House Dem Aide: We Didnât Even...\n",
            "1       Daniel J. Flynn FLYNN: Hillary Clinton, Big Wo...\n",
            "2       Consortiumnews.com Why the Truth Might Get You...\n",
            "3       Jessica Purkiss 15 Civilians Killed In Single ...\n",
            "4       Howard Portnoy Iranian woman jailed for fictio...\n",
            "                              ...                        \n",
            "9575    Jerome Hudson Rapper T.I.: Trump a âPoster C...\n",
            "9576    Benjamin Hoffman N.F.L. Playoffs: Schedule, Ma...\n",
            "9577    Michael J. de la Merced and Rachel Abrams Macy...\n",
            "9578    Alex Ansary NATO, Russia To Hold Parallel Exer...\n",
            "9579              David Swanson What Keeps the F-35 Alive\n",
            "Name: content, Length: 9580, dtype: object\n"
          ]
        }
      ]
    },
    {
      "cell_type": "code",
      "source": [
        "# separating the data & label\n",
        "X = news_dataset.drop(columns='label', axis=1)\n",
        "Y = news_dataset['label']"
      ],
      "metadata": {
        "id": "iJKa0Y1TQ0b5"
      },
      "execution_count": 27,
      "outputs": []
    },
    {
      "cell_type": "code",
      "source": [
        "print(X)\n",
        "print(Y)"
      ],
      "metadata": {
        "colab": {
          "base_uri": "https://localhost:8080/"
        },
        "id": "0cWnPnqhROeq",
        "outputId": "beee61a3-7c5d-4adb-9210-6a409c2c0f18"
      },
      "execution_count": 28,
      "outputs": [
        {
          "output_type": "stream",
          "name": "stdout",
          "text": [
            "         id                                              title  \\\n",
            "0         0  House Dem Aide: We Didnât Even See Comeyâs...   \n",
            "1         1  FLYNN: Hillary Clinton, Big Woman on Campus - ...   \n",
            "2         2                  Why the Truth Might Get You Fired   \n",
            "3         3  15 Civilians Killed In Single US Airstrike Hav...   \n",
            "4         4  Iranian woman jailed for fictional unpublished...   \n",
            "...     ...                                                ...   \n",
            "9575  20795  Rapper T.I.: Trump a âPoster Child For White...   \n",
            "9576  20796  N.F.L. Playoffs: Schedule, Matchups and Odds -...   \n",
            "9577  20797  Macyâs Is Said to Receive Takeover Approach ...   \n",
            "9578  20798  NATO, Russia To Hold Parallel Exercises In Bal...   \n",
            "9579  20799                          What Keeps the F-35 Alive   \n",
            "\n",
            "                                         author  \\\n",
            "0                                 Darrell Lucus   \n",
            "1                               Daniel J. Flynn   \n",
            "2                            Consortiumnews.com   \n",
            "3                               Jessica Purkiss   \n",
            "4                                Howard Portnoy   \n",
            "...                                         ...   \n",
            "9575                              Jerome Hudson   \n",
            "9576                           Benjamin Hoffman   \n",
            "9577  Michael J. de la Merced and Rachel Abrams   \n",
            "9578                                Alex Ansary   \n",
            "9579                              David Swanson   \n",
            "\n",
            "                                                   text  \\\n",
            "0     House Dem Aide: We Didnât Even See Comeyâs...   \n",
            "1     Ever get the feeling your life circles the rou...   \n",
            "2     Why the Truth Might Get You Fired October 29, ...   \n",
            "3     Videos 15 Civilians Killed In Single US Airstr...   \n",
            "4     Print \\nAn Iranian woman has been sentenced to...   \n",
            "...                                                 ...   \n",
            "9575  Rapper T. I. unloaded on black celebrities who...   \n",
            "9576  When the Green Bay Packers lost to the Washing...   \n",
            "9577  The Macyâs of today grew from the union of s...   \n",
            "9578  NATO, Russia To Hold Parallel Exercises In Bal...   \n",
            "9579    David Swanson is an author, activist, journa...   \n",
            "\n",
            "                                                content  \n",
            "0     Darrell Lucus House Dem Aide: We Didnât Even...  \n",
            "1     Daniel J. Flynn FLYNN: Hillary Clinton, Big Wo...  \n",
            "2     Consortiumnews.com Why the Truth Might Get You...  \n",
            "3     Jessica Purkiss 15 Civilians Killed In Single ...  \n",
            "4     Howard Portnoy Iranian woman jailed for fictio...  \n",
            "...                                                 ...  \n",
            "9575  Jerome Hudson Rapper T.I.: Trump a âPoster C...  \n",
            "9576  Benjamin Hoffman N.F.L. Playoffs: Schedule, Ma...  \n",
            "9577  Michael J. de la Merced and Rachel Abrams Macy...  \n",
            "9578  Alex Ansary NATO, Russia To Hold Parallel Exer...  \n",
            "9579            David Swanson What Keeps the F-35 Alive  \n",
            "\n",
            "[9580 rows x 5 columns]\n",
            "0       1\n",
            "1       0\n",
            "2       1\n",
            "3       1\n",
            "4       1\n",
            "       ..\n",
            "9575    0\n",
            "9576    0\n",
            "9577    0\n",
            "9578    1\n",
            "9579    1\n",
            "Name: label, Length: 9580, dtype: int64\n"
          ]
        }
      ]
    },
    {
      "cell_type": "markdown",
      "source": [
        "Stemming:\n",
        "\n",
        "Stemming is the process of reducing a word to its Root word\n",
        "\n",
        "example: actor, actress, acting --> act  (اختصار )"
      ],
      "metadata": {
        "id": "i7mEJ1jcRZHp"
      }
    },
    {
      "cell_type": "code",
      "source": [
        "port_stem = PorterStemmer()\n",
        "def stemming(content):\n",
        "    stemmed_content = re.sub('[^a-zA-Z]',' ',content)\n",
        "    stemmed_content = stemmed_content.lower()\n",
        "    stemmed_content = stemmed_content.split()\n",
        "    stemmed_content = [port_stem.stem(word) for word in stemmed_content if not word in stopwords.words('english')]\n",
        "    stemmed_content = ' '.join(stemmed_content)\n",
        "    return stemmed_content"
      ],
      "metadata": {
        "id": "aZvZz4o-ReYq"
      },
      "execution_count": 39,
      "outputs": []
    },
    {
      "cell_type": "code",
      "source": [
        "news_dataset['content'] = news_dataset['content'].apply(stemming)"
      ],
      "metadata": {
        "id": "HKeJTYxiR9fD"
      },
      "execution_count": 40,
      "outputs": []
    },
    {
      "cell_type": "code",
      "source": [
        "print(news_dataset['content'])"
      ],
      "metadata": {
        "colab": {
          "base_uri": "https://localhost:8080/"
        },
        "id": "lvFIszFSSR1k",
        "outputId": "9299cbd6-ed56-4165-80a2-6b7e161aa24f"
      },
      "execution_count": 42,
      "outputs": [
        {
          "output_type": "stream",
          "name": "stdout",
          "text": [
            "0       darrel lucu hou dem aid even see comey letter ...\n",
            "1       daniel j flynn flynn hillari clinton big woman...\n",
            "2                  consortiumnew com truth might get fire\n",
            "3       jessica purkiss civilian kill singl us airstri...\n",
            "4       howard portnoy iranian woman jail fiction unpu...\n",
            "                              ...                        \n",
            "9575    jerom hudson rapper trump poster child white s...\n",
            "9576    benjamin hoffman n f l playoff schedul matchup...\n",
            "9577    michael j de la merc rachel abram maci said re...\n",
            "9578    alex ansari nato russia hold parallel exerci b...\n",
            "9579                            david swanson keep f aliv\n",
            "Name: content, Length: 9580, dtype: object\n"
          ]
        }
      ]
    },
    {
      "cell_type": "code",
      "source": [
        "#seprating data and label\n",
        "\n",
        "X = news_dataset['content'].values\n",
        "Y = news_dataset['label'].values\n",
        "print(Y)\n",
        "print(X)"
      ],
      "metadata": {
        "colab": {
          "base_uri": "https://localhost:8080/"
        },
        "id": "6A8TkBkMSi00",
        "outputId": "3d9b62e1-fa53-4aea-8cd7-689a069f37ae"
      },
      "execution_count": 45,
      "outputs": [
        {
          "output_type": "stream",
          "name": "stdout",
          "text": [
            "[1 0 1 ... 0 1 1]\n",
            "['darrel lucu hou dem aid even see comey letter jason chaffetz tweet'\n",
            " 'daniel j flynn flynn hillari clinton big woman campu breitbart'\n",
            " 'consortiumnew com truth might get fire' ...\n",
            " 'michael j de la merc rachel abram maci said receiv takeov approach hudson bay new york time'\n",
            " 'alex ansari nato russia hold parallel exerci balkan'\n",
            " 'david swanson keep f aliv']\n"
          ]
        }
      ]
    },
    {
      "cell_type": "code",
      "source": [
        "# converting the textual data to numerical data\n",
        "vectorizer = TfidfVectorizer()\n",
        "vectorizer.fit(X)\n",
        "\n",
        "X = vectorizer.transform(X)\n",
        "print(X)"
      ],
      "metadata": {
        "colab": {
          "base_uri": "https://localhost:8080/"
        },
        "id": "yGUYKFhkTPTy",
        "outputId": "c339cddb-291a-451b-e219-615044be869e"
      },
      "execution_count": 46,
      "outputs": [
        {
          "output_type": "stream",
          "name": "stdout",
          "text": [
            "  (0, 11176)\t0.2871289004155165\n",
            "  (0, 9598)\t0.2554693780709465\n",
            "  (0, 6360)\t0.35884797828981885\n",
            "  (0, 6149)\t0.29770526027229904\n",
            "  (0, 5485)\t0.25483464733649286\n",
            "  (0, 4998)\t0.2153262253616258\n",
            "  (0, 3545)\t0.233456098879201\n",
            "  (0, 2690)\t0.27447016731233315\n",
            "  (0, 2542)\t0.35224361732679194\n",
            "  (0, 2069)\t0.24895646546909808\n",
            "  (0, 1728)\t0.3666592793736521\n",
            "  (0, 178)\t0.27065934205314507\n",
            "  (1, 11955)\t0.30767677479011424\n",
            "  (1, 4858)\t0.19537067792985424\n",
            "  (1, 3943)\t0.7097605872221622\n",
            "  (1, 2523)\t0.26475240493693525\n",
            "  (1, 1964)\t0.19573161052187615\n",
            "  (1, 1548)\t0.37165757093296714\n",
            "  (1, 1305)\t0.1610150731850931\n",
            "  (1, 1025)\t0.3015713948372116\n",
            "  (2, 11118)\t0.405003252589598\n",
            "  (2, 6866)\t0.4958242477308032\n",
            "  (2, 4283)\t0.3513560164252818\n",
            "  (2, 3857)\t0.3887563656431675\n",
            "  (2, 2177)\t0.46327141161097374\n",
            "  :\t:\n",
            "  (9577, 9365)\t0.2536914374668621\n",
            "  (9577, 8805)\t0.2742890217158662\n",
            "  (9577, 8652)\t0.2547046267661849\n",
            "  (9577, 7349)\t0.08239461969445622\n",
            "  (9577, 6844)\t0.1792456560754444\n",
            "  (9577, 6791)\t0.28607966694255854\n",
            "  (9577, 6418)\t0.35373881297851567\n",
            "  (9577, 5950)\t0.22284637276528527\n",
            "  (9577, 5026)\t0.21979409927494664\n",
            "  (9577, 2575)\t0.2108394116105412\n",
            "  (9577, 882)\t0.3338137556462065\n",
            "  (9577, 479)\t0.3067771375326402\n",
            "  (9577, 29)\t0.29654346332318304\n",
            "  (9578, 9315)\t0.22712284615208908\n",
            "  (9578, 7882)\t0.4343640618364788\n",
            "  (9578, 7255)\t0.3192453013089198\n",
            "  (9578, 4910)\t0.33469691091956105\n",
            "  (9578, 3584)\t0.40668267438357847\n",
            "  (9578, 772)\t0.44859425169615097\n",
            "  (9578, 406)\t0.31355339845273056\n",
            "  (9578, 238)\t0.2843592023724647\n",
            "  (9579, 10575)\t0.5672118838508754\n",
            "  (9579, 5734)\t0.46038524010914006\n",
            "  (9579, 2558)\t0.3802456946848071\n",
            "  (9579, 260)\t0.5672118838508754\n"
          ]
        }
      ]
    },
    {
      "cell_type": "code",
      "source": [
        "X_train, X_test, Y_train, Y_test = train_test_split(X, Y, test_size = 0.2, stratify=Y, random_state=2)"
      ],
      "metadata": {
        "id": "meFB8LOxTfhq"
      },
      "execution_count": 47,
      "outputs": []
    },
    {
      "cell_type": "code",
      "source": [
        "model = LogisticRegression()"
      ],
      "metadata": {
        "id": "Tt4j0X0FTpAA"
      },
      "execution_count": 48,
      "outputs": []
    },
    {
      "cell_type": "code",
      "source": [
        "model.fit(X_train , Y_train)"
      ],
      "metadata": {
        "colab": {
          "base_uri": "https://localhost:8080/"
        },
        "id": "7BW13fmpTwGV",
        "outputId": "8d336d43-545c-4f66-ec7b-32f6dd9d6925"
      },
      "execution_count": 49,
      "outputs": [
        {
          "output_type": "execute_result",
          "data": {
            "text/plain": [
              "LogisticRegression()"
            ]
          },
          "metadata": {},
          "execution_count": 49
        }
      ]
    },
    {
      "cell_type": "code",
      "source": [
        "#accuracy on training data\n",
        "X_train_prediction = model.predict(X_train)\n",
        "training_data_accuracy = accuracy_score(X_train_prediction , Y_train)\n",
        "print('Accuracy on training data :',training_data_accuracy)"
      ],
      "metadata": {
        "id": "PPe5yaetUMfN"
      },
      "execution_count": null,
      "outputs": []
    },
    {
      "cell_type": "code",
      "source": [
        "#accuracy on training data\n",
        "X_test_prediction = model.predict(X_test)\n",
        "test_data_accuracy = accuracy_score(X_test_prediction , Y_test)\n",
        "print('Accuracy on training data :',test_data_accuracy)"
      ],
      "metadata": {
        "colab": {
          "base_uri": "https://localhost:8080/"
        },
        "id": "Ay-dR0LSUVhU",
        "outputId": "f26092d5-8f0b-4968-ea02-ccedf95fe33c"
      },
      "execution_count": 50,
      "outputs": [
        {
          "output_type": "stream",
          "name": "stdout",
          "text": [
            "Accuracy on training data : 0.9624217118997912\n"
          ]
        }
      ]
    },
    {
      "cell_type": "code",
      "source": [
        "X_new = X_test[20]\n",
        "\n",
        "\n",
        "\n",
        "prediction = model.predict(X_new)\n",
        "print(prediction)\n",
        "\n",
        "if (prediction[0]==0):\n",
        "  print('The news is Real')\n",
        "else:\n",
        "  print('The news is Fake')"
      ],
      "metadata": {
        "colab": {
          "base_uri": "https://localhost:8080/"
        },
        "id": "SKtXp13tUtXg",
        "outputId": "bd781eb5-15aa-4cd0-a3e5-ea4db1a78434"
      },
      "execution_count": 52,
      "outputs": [
        {
          "output_type": "stream",
          "name": "stdout",
          "text": [
            "[0]\n",
            "The news is Real\n"
          ]
        }
      ]
    }
  ]
}